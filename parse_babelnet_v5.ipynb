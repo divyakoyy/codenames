{
 "cells": [
  {
   "cell_type": "code",
   "execution_count": 1,
   "metadata": {},
   "outputs": [],
   "source": [
    "import networkx as nx\n",
    "import requests\n",
    "import urllib\n",
    "import gzip"
   ]
  },
  {
   "cell_type": "code",
   "execution_count": 2,
   "metadata": {},
   "outputs": [],
   "source": [
    "file_dir = '/Users/annaysun/codenames/babelnet_v4/'"
   ]
  },
  {
   "cell_type": "code",
   "execution_count": 136,
   "metadata": {},
   "outputs": [],
   "source": [
    "G = nx.DiGraph()"
   ]
  },
  {
   "cell_type": "code",
   "execution_count": 137,
   "metadata": {},
   "outputs": [],
   "source": [
    "word = 'bear'\n",
    "with gzip.open(file_dir + word + '.gz', 'r') as f:\n",
    "    for line in f:\n",
    "        source, target, language, short_name, relation_group, is_automatic = line.decode(\"utf-8\").strip().split('\\t')\n",
    "#         if source == 'bn:00010720n':\n",
    "#             print(line.decode(\"utf-8\"))\n",
    "        if relation_group == 'HYPERNYM' and is_automatic == 'False':\n",
    "            G.add_edge(source, target)"
   ]
  },
  {
   "cell_type": "code",
   "execution_count": 30,
   "metadata": {},
   "outputs": [],
   "source": [
    "source, target, language, short_name, relation_group, is_automatic = line.split('\\t')"
   ]
  },
  {
   "cell_type": "code",
   "execution_count": 138,
   "metadata": {},
   "outputs": [
    {
     "name": "stdout",
     "output_type": "stream",
     "text": [
      "28\n",
      "28\n"
     ]
    }
   ],
   "source": [
    "print(G.number_of_nodes())\n",
    "print(G.number_of_edges())"
   ]
  },
  {
   "cell_type": "code",
   "execution_count": 139,
   "metadata": {},
   "outputs": [],
   "source": [
    "nn_w_dists = {}\n",
    "with open(file_dir+word+'_synsets', 'r') as f:\n",
    "    for line in f:\n",
    "        synset = line.strip()\n",
    "        lengths = nx.single_source_shortest_path_length(\n",
    "            G, source=synset, cutoff=10\n",
    "        )\n",
    "        for neighbor, length in lengths.items():\n",
    "            if neighbor not in nn_w_dists:\n",
    "                nn_w_dists[neighbor] = length\n",
    "            else:\n",
    "                print(neighbor, 'length:', length, 'prev length:', nn_w_dists[neighbor])\n",
    "            nn_w_dists[neighbor] = min(length, nn_w_dists[neighbor])"
   ]
  },
  {
   "cell_type": "code",
   "execution_count": 140,
   "metadata": {},
   "outputs": [
    {
     "data": {
      "text/plain": [
       "{'bn:00083228v': 0,\n",
       " 'bn:00089240v': 1,\n",
       " 'bn:00009342n': 0,\n",
       " 'bn:00016143n': 1,\n",
       " 'bn:00076248n': 1,\n",
       " 'bn:00031965n': 2,\n",
       " 'bn:00009677n': 2,\n",
       " 'bn:00010540n': 2,\n",
       " 'bn:17528560n': 2,\n",
       " 'bn:00053079n': 3,\n",
       " 'bn:00019393n': 3,\n",
       " 'bn:00004257n': 3,\n",
       " 'bn:00031027n': 3,\n",
       " 'bn:00021547n': 3,\n",
       " 'bn:00041942n': 3,\n",
       " 'bn:02928599n': 3,\n",
       " 'bn:00009343n': 0,\n",
       " 'bn:00047367n': 1,\n",
       " 'bn:00015665n': 2,\n",
       " 'bn:00012439n': 2,\n",
       " 'bn:00060821n': 2,\n",
       " 'bn:00064608n': 2,\n",
       " 'bn:00046516n': 3,\n",
       " 'bn:00014136n': 3,\n",
       " 'bn:17880853n': 3,\n",
       " 'bn:00014138n': 3,\n",
       " 'bn:00012059n': 3,\n",
       " 'bn:00071261n': 3}"
      ]
     },
     "execution_count": 140,
     "metadata": {},
     "output_type": "execute_result"
    }
   ],
   "source": [
    "# bear\n",
    "nn_w_dists"
   ]
  },
  {
   "cell_type": "code",
   "execution_count": 135,
   "metadata": {
    "scrolled": true
   },
   "outputs": [
    {
     "data": {
      "text/plain": [
       "{'bn:00003357n': 0,\n",
       " 'bn:00010720n': 0,\n",
       " 'bn:00076248n': 1,\n",
       " 'bn:00012459n': 1,\n",
       " 'bn:00010540n': 2,\n",
       " 'bn:17528560n': 2,\n",
       " 'bn:00068536n': 2,\n",
       " 'bn:00041942n': 3,\n",
       " 'bn:02928599n': 3,\n",
       " 'bn:00006179n': 3,\n",
       " 'bn:00053079n': 3}"
      ]
     },
     "execution_count": 135,
     "metadata": {},
     "output_type": "execute_result"
    }
   ],
   "source": [
    "# bison\n",
    "nn_w_dists"
   ]
  },
  {
   "cell_type": "code",
   "execution_count": 79,
   "metadata": {},
   "outputs": [
    {
     "data": {
      "text/plain": [
       "0"
      ]
     },
     "execution_count": 79,
     "metadata": {},
     "output_type": "execute_result"
    }
   ],
   "source": [
    "G.in_degree('bn:00011917n')"
   ]
  },
  {
   "cell_type": "code",
   "execution_count": 77,
   "metadata": {
    "scrolled": true
   },
   "outputs": [
    {
     "data": {
      "text/plain": [
       "[('bn:00011917n', 'bn:00005793n'),\n",
       " ('bn:00011917n', 'bn:00032351n'),\n",
       " ('bn:00011917n', 'bn:01643573n'),\n",
       " ('bn:00005793n', 'bn:00046978n'),\n",
       " ('bn:00032351n', 'bn:00026716n'),\n",
       " ('bn:00032351n', 'bn:00313677n'),\n",
       " ('bn:01643573n', 'bn:00005704n'),\n",
       " ('bn:01643573n', 'bn:05012142n'),\n",
       " ('bn:00046978n', 'bn:00005956n'),\n",
       " ('bn:00026716n', 'bn:00046978n'),\n",
       " ('bn:00026716n', 'bn:00077585n'),\n",
       " ('bn:00026716n', 'bn:00313677n'),\n",
       " ('bn:00026716n', 'bn:15154456n'),\n",
       " ('bn:00313677n', 'bn:00077585n'),\n",
       " ('bn:00313677n', 'bn:14439409n'),\n",
       " ('bn:00005704n', 'bn:00046961n'),\n",
       " ('bn:00005704n', 'bn:00054416n'),\n",
       " ('bn:00005704n', 'bn:00077585n'),\n",
       " ('bn:05012142n', 'bn:15154456n'),\n",
       " ('bn:00083756v', 'bn:00082838v'),\n",
       " ('bn:00082838v', 'bn:00085711v'),\n",
       " ('bn:03315803n', 'bn:00034471n'),\n",
       " ('bn:03315803n', 'bn:14956284n'),\n",
       " ('bn:03315803n', 'bn:03315803n'),\n",
       " ('bn:00034471n', 'bn:00064584n'),\n",
       " ('bn:00034471n', 'bn:00071316n'),\n",
       " ('bn:00034471n', 'bn:00081581n'),\n",
       " ('bn:00034471n', 'bn:01094292n'),\n",
       " ('bn:00034471n', 'bn:15393639n'),\n",
       " ('bn:14956284n', 'bn:00021961n'),\n",
       " ('bn:00064584n', 'bn:00023653n'),\n",
       " ('bn:00071316n', 'bn:00072535n'),\n",
       " ('bn:00081581n', 'bn:00005926n'),\n",
       " ('bn:00081581n', 'bn:01094292n'),\n",
       " ('bn:00081581n', 'bn:00052671n'),\n",
       " ('bn:15393639n', 'bn:01542820n'),\n",
       " ('bn:15393639n', 'bn:15338434n'),\n",
       " ('bn:00021961n', 'bn:00061931n'),\n",
       " ('bn:00021961n', 'bn:00021547n')]"
      ]
     },
     "execution_count": 77,
     "metadata": {},
     "output_type": "execute_result"
    }
   ],
   "source": [
    "list(G.edges)"
   ]
  },
  {
   "cell_type": "code",
   "execution_count": 33,
   "metadata": {},
   "outputs": [],
   "source": [
    "s = set()\n",
    "s.add(1)"
   ]
  },
  {
   "cell_type": "code",
   "execution_count": null,
   "metadata": {},
   "outputs": [],
   "source": [
    "\"\"\"\n",
    "bn:00009694n    bn:00058844n    EN      is-a    HYPERNYM        False\n",
    "bn:00009694n    bn:00102477a    EN      gloss-related   OTHER   False\n",
    "bn:00009694n    bn:00058844n    EN      gloss-related   OTHER   False\n",
    "bn:00009694n    bn:00102477a    EN      gloss-related   OTHER   False\n",
    "bn:00009694n    bn:00112223a    EN      gloss-related   OTHER   False\n",
    "bn:00009694n    bn:00644696n    MUL     subclass_of     HYPERNYM        False\n",
    "bn:00009694n    bn:03244583n    EN      has-kind        HYPONYM True\n",
    "bn:00009694n    bn:03746929n    EN      has-kind        HYPONYM True\n",
    "bn:00009694n    bn:03881611n    DA      is-a    HYPERNYM        True\n",
    "bn:00009694n    bn:00003687n    EN      related OTHER   False\n",
    "\"\"\""
   ]
  },
  {
   "cell_type": "code",
   "execution_count": 166,
   "metadata": {},
   "outputs": [],
   "source": [
    "def get_labels_from_synset(synset):\n",
    "    url = \"https://babelnet.org/sparql/\"\n",
    "    queryString = \"\"\"\n",
    "    SELECT ?label WHERE {{\n",
    "        <http://babelnet.org/rdf/s{synset}> a skos:Concept .\n",
    "        OPTIONAL {{\n",
    "            <http://babelnet.org/rdf/s{synset}> lemon:isReferenceOf ?sense .\n",
    "            ?entry lemon:sense ?sense .\n",
    "            ?entry lemon:language \"EN\" .\n",
    "            ?entry rdfs:label ?label\n",
    "        }}\n",
    "    }}\n",
    "    \"\"\".format(synset=synset.lstrip('bn:'))\n",
    "    query = queryString.replace(\" \", \"+\")\n",
    "    fmt = urllib.parse.quote(\"application/sparql-results+json\".encode('UTF-8'), safe=\"\")\n",
    "    params = {\n",
    "        \"query\": query,\n",
    "        \"format\": fmt,\n",
    "#         \"key\": \"e3b6a00a-c035-4430-8d71-661cdf3d5837\",\n",
    "    }\n",
    "    payload_str = \"&\".join(\"%s=%s\" % (k,v) for k,v in params.items())\n",
    "    \n",
    "    res = requests.get('?'.join([url, payload_str]))\n",
    "    if 'label' not in res.json()['results']['bindings'][0]:\n",
    "        return []\n",
    "    labels = [\n",
    "        r['label']['value']\n",
    "        for r in res.json()['results']['bindings']\n",
    "    ]\n",
    "    return labels"
   ]
  },
  {
   "cell_type": "code",
   "execution_count": 182,
   "metadata": {},
   "outputs": [
    {
     "data": {
      "text/plain": [
       "['device',\n",
       " 'device_(machine)',\n",
       " 'device',\n",
       " 'device_(machine)',\n",
       " 'Industrial_Hydraulics',\n",
       " 'Capital_equipment',\n",
       " 'machine',\n",
       " 'machine_(politics)',\n",
       " 'Complex_machine',\n",
       " 'Machinery_and_mechanisms',\n",
       " 'IndustrialHydraulis',\n",
       " 'Machines_(video_game)',\n",
       " 'Machines',\n",
       " \"Machines_(Or_'Back_to_Humans')\",\n",
       " \"Machines_(or_'Back_to_Humans')\",\n",
       " 'Machines_(or_Back_to_Humans)',\n",
       " 'Machines_(Biffy_Clyro_Song)',\n",
       " 'Machines_(Biffy_Clyro_song)',\n",
       " 'Machines_(song)',\n",
       " 'Machines_(Doctor_Who_audio)',\n",
       " 'Machines_(EP)',\n",
       " 'Machines_(Red_Flag_song)',\n",
       " 'Machines_(single)',\n",
       " 'Machineries']"
      ]
     },
     "execution_count": 182,
     "metadata": {},
     "output_type": "execute_result"
    }
   ],
   "source": [
    "labels = get_labels_from_synset('bn:00026716n')\n",
    "labels"
   ]
  },
  {
   "cell_type": "code",
   "execution_count": 183,
   "metadata": {},
   "outputs": [
    {
     "name": "stdout",
     "output_type": "stream",
     "text": [
      "{'machine', 'Machineries', 'device', 'IndustrialHydraulis', 'Machines'}\n"
     ]
    }
   ],
   "source": [
    "print(set([label for label in labels if len(label.split('_')) == 1]))"
   ]
  },
  {
   "cell_type": "code",
   "execution_count": 88,
   "metadata": {},
   "outputs": [
    {
     "data": {
      "text/plain": [
       "{'Astronomical_Objects',\n",
       " 'Astronomical_bodies',\n",
       " 'Astronomical_body',\n",
       " 'Astronomical_object',\n",
       " 'Astronomical_objects',\n",
       " 'Celestial_bodes',\n",
       " 'Celestial_bodies',\n",
       " 'Celestial_bodies_(Cthulhu_mythos)',\n",
       " 'Celestial_object',\n",
       " 'Celestial_objects',\n",
       " 'Cosmological_object',\n",
       " 'celestial_body',\n",
       " 'heavenly_body'}"
      ]
     },
     "execution_count": 88,
     "metadata": {},
     "output_type": "execute_result"
    }
   ],
   "source": [
    "set( ['Astronomical_Objects',\n",
    " 'celestial_body',\n",
    " 'Celestial_object',\n",
    " 'Cosmological_object',\n",
    " 'Celestial_bodes',\n",
    " 'Celestial_objects',\n",
    " 'Astronomical_bodies',\n",
    " 'Celestial_bodies',\n",
    " 'Celestial_bodies_(Cthulhu_mythos)',\n",
    " 'Astronomical_objects',\n",
    " 'heavenly_body',\n",
    " 'Astronomical_body',\n",
    " 'Astronomical_object']\n",
    ")"
   ]
  },
  {
   "cell_type": "code",
   "execution_count": null,
   "metadata": {},
   "outputs": [],
   "source": []
  }
 ],
 "metadata": {
  "kernelspec": {
   "display_name": "Python 3",
   "language": "python",
   "name": "python3"
  },
  "language_info": {
   "codemirror_mode": {
    "name": "ipython",
    "version": 3
   },
   "file_extension": ".py",
   "mimetype": "text/x-python",
   "name": "python",
   "nbconvert_exporter": "python",
   "pygments_lexer": "ipython3",
   "version": "3.6.8"
  }
 },
 "nbformat": 4,
 "nbformat_minor": 4
}
